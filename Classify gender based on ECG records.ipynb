{
 "cells": [
  {
   "cell_type": "code",
   "execution_count": 1,
   "id": "0f34f8e4",
   "metadata": {},
   "outputs": [
    {
     "name": "stderr",
     "output_type": "stream",
     "text": [
      "C:\\Users\\andme\\anaconda3\\envs\\pytorch\\lib\\site-packages\\scipy\\__init__.py:138: UserWarning: A NumPy version >=1.16.5 and <1.23.0 is required for this version of SciPy (detected version 1.23.0)\n",
      "  warnings.warn(f\"A NumPy version >={np_minversion} and <{np_maxversion} is required for this version of \"\n"
     ]
    }
   ],
   "source": [
    "import torch\n",
    "import torch.nn as nn\n",
    "import torch.optim as optim\n",
    "from torch.utils.data import Dataset, DataLoader\n",
    "from torchvision import transforms\n",
    "\n",
    "import pandas as pd\n",
    "import numpy as np\n",
    "import matplotlib.pyplot as plt\n",
    "import seaborn as sns\n",
    "import os\n",
    "from collections import defaultdict\n",
    "\n",
    "from tqdm import tqdm\n",
    "import wfdb\n",
    "\n",
    "sns.set_style('whitegrid')"
   ]
  },
  {
   "cell_type": "code",
   "execution_count": 2,
   "id": "a29461a6",
   "metadata": {},
   "outputs": [],
   "source": [
    "device = 'cuda' if torch.cuda.is_available() else 'cpu'"
   ]
  },
  {
   "cell_type": "code",
   "execution_count": 3,
   "id": "1063ecc2",
   "metadata": {},
   "outputs": [],
   "source": [
    " class CustomDataset(Dataset):\n",
    "        def __init__(self, base_path, file_path, sampling_rate=500, max_val=0):\n",
    "            self.base_path = base_path\n",
    "            self.sampling_rate = sampling_rate\n",
    "            self.df = pd.read_csv(self.base_path+file_path)\n",
    "            self.transform = transforms.Compose([\n",
    "            transforms.ToTensor()\n",
    "        ])\n",
    "            \n",
    "        def __len__(self):\n",
    "            return len(self.df)\n",
    "        \n",
    "        def __getitem__(self, idx):\n",
    "            target = self.df.iloc[idx, 3]\n",
    "            if self.sampling_rate == 100:\n",
    "                data = wfdb.rdsamp(self.base_path + self.df.iloc[idx, -2])[0]\n",
    "            else:\n",
    "                data = wfdb.rdsamp(self.base_path + self.df.iloc[idx, -1])[0]\n",
    "            return selfe.transform(data.T), torch.tensor(target, dtype=torch.float32)\n",
    "            \n",
    "#             return torch.tensor(data.T, dtype=torch.float32)/max_val if max_val>0 else torch.tensor(data.T, dtype=torch.float32), torch.tensor(target, dtype=torch.float32)"
   ]
  },
  {
   "cell_type": "code",
   "execution_count": 4,
   "id": "5d06bbda",
   "metadata": {},
   "outputs": [],
   "source": [
    "# load the custom dataset into tensor form\n",
    "base_dir = './ptb_dataset/ptb-xl-a-large-publicly-available-electrocardiography-dataset-1.0.1/'\n",
    "filename = 'ptbxl_database.csv'\n",
    "\n",
    "# load the dataset\n",
    "ecg = CustomDataset(base_path=base_dir, file_path=filename)"
   ]
  },
  {
   "cell_type": "code",
   "execution_count": null,
   "id": "ed7ca7ce",
   "metadata": {},
   "outputs": [
    {
     "name": "stdout",
     "output_type": "stream",
     "text": [
      "converted into dataloader ...\n"
     ]
    }
   ],
   "source": [
    "max_val = 0\n",
    "\n",
    "# dataloader for faster performance\n",
    "ecg_loader = DataLoader(dataset=ecg, batch_size=128, num_workers=4)\n",
    "print('converted into dataloader ...')\n",
    "\n",
    "for idx, (data, label) in tqdm(enumerate(ecg_loader)):\n",
    "    batch_max_val = torch.max(torch.abs(data))\n",
    "    if batch_max_val > max_val:\n",
    "        max_val = batch_max_val\n",
    "        \n",
    "        \n",
    "# use \n",
    "        \n",
    "print(f'Maximum absolute value exist in the dataset is : {max_val}')"
   ]
  },
  {
   "cell_type": "code",
   "execution_count": null,
   "id": "a5b10c45",
   "metadata": {},
   "outputs": [
    {
     "name": "stdout",
     "output_type": "stream",
     "text": [
      "converted into dataloader ...\n"
     ]
    }
   ],
   "source": [
    "# set max value equlas 0 for comparision\n",
    "max_val = 0\n",
    "\n",
    "# dataloader for faster performance\n",
    "ecg_loader = DataLoader(dataset=ecg, batch_size=128, num_workers=4)\n",
    "print('converted into dataloader ...')\n",
    "\n",
    "for idx, (data, label) in tqdm(enumerate(ecg_loader)):\n",
    "    batch_max_val = torch.max(torch.abs(data))\n",
    "    if batch_max_val > max_val:\n",
    "        max_val = batch_max_val\n",
    "        \n",
    "        \n",
    "# use \n",
    "        \n",
    "print(f'Maximum absolute value exist in the dataset is : {max_val}')"
   ]
  },
  {
   "cell_type": "code",
   "execution_count": 62,
   "id": "4297ee7f",
   "metadata": {},
   "outputs": [
    {
     "name": "stdout",
     "output_type": "stream",
     "text": [
      "Min -0.9991442561149597 and Max 0.9998776912689209\n"
     ]
    }
   ],
   "source": [
    "# normalize the data based on maximum value\n",
    "ecg = CustomDataset(base_path=base_dir, file_path=filename, max_val=max_val)\n",
    "\n",
    "# split the data into train, test and validation\n",
    "ecg_train, ecg_test = torch.utils.data.random_split(ecg, [len(ecg)-3000, 3000])\n",
    "ecg_train, ecg_validation = torch.utils.data.random_split(ecg_train, [len(ecg_train)-3000, 3000])\n",
    "\n",
    "# dataloader\n",
    "ecg_train_loader = DataLoader(dataset=ecg_train, batch_size=32, shuffle=True, num_worker=8)\n",
    "ecg_validation_loader = DataLoader(dataset=ecg_validation, batch_size=16, shuffle=True, num_worker=8)\n",
    "ecg_test_loader = DataLoader(dataset=ecg_test, batch_size=16, shuffle=True, num_worker=8)"
   ]
  },
  {
   "cell_type": "code",
   "execution_count": 31,
   "id": "21deea8c",
   "metadata": {},
   "outputs": [],
   "source": [
    "# define classifier model\n",
    "\n",
    "class ECGClassifier(nn.Module):\n",
    "    def __init__(self, input_ch=12, hidden_ch=32, kernel=5):\n",
    "        super(ECGClassifier, self).__init__()\n",
    "        self.kernel = kernel\n",
    "        self.initial = nn.Sequential(\n",
    "                        nn.Conv1d(in_channels=input_ch, out_channels=hidden_ch, kernel_size=kernel),\n",
    "                        nn.BatchNorm1d(hidden_ch),\n",
    "                        nn.ReLU(),\n",
    "                        nn.MaxPool1d(kernel_size=2, stride=2)\n",
    "                        )\n",
    "        self.main = nn.Sequential(\n",
    "                    self.cnn_block(hidden_ch, hidden_ch*2),\n",
    "                    self.cnn_block(hidden_ch*2, hidden_ch*4),\n",
    "                    self.cnn_block(hidden_ch*4, hidden_ch*8),\n",
    "                    self.cnn_block(hidden_ch*8, hidden_ch*16)\n",
    "                    )\n",
    "        \n",
    "        self.last = nn.Sequential(\n",
    "                    nn.Flatten(),\n",
    "                    nn.Linear(hidden_ch*16*8, 512),\n",
    "                    nn.ReLU(),\n",
    "                    nn.Linear(512, 64),\n",
    "                    nn.ReLU(),\n",
    "                    nn.Linear(64,1),\n",
    "                    nn.Sigmoid()\n",
    "                    )\n",
    "\n",
    "        \n",
    "    def cnn_block(self, ch_in, ch_out):\n",
    "        return nn.Sequential(\n",
    "        nn.Conv1d(in_channels=ch_in, out_channels=ch_out, kernel_size=self.kernel),\n",
    "                    nn.BatchNorm1d(ch_out),\n",
    "                    nn.ReLU(),\n",
    "                    nn.MaxPool1d(kernel_size=4, stride=4)\n",
    "        )\n",
    "\n",
    "    def forward(self, x):\n",
    "        x = self.initial(x)\n",
    "        x = self.main(x)\n",
    "        x = self.last(x)\n",
    "        return x"
   ]
  },
  {
   "cell_type": "code",
   "execution_count": 38,
   "id": "1ea43682",
   "metadata": {},
   "outputs": [],
   "source": [
    "model = ECGClassifier()\n",
    "model = model.to(device)"
   ]
  },
  {
   "cell_type": "code",
   "execution_count": 39,
   "id": "b37bc988",
   "metadata": {},
   "outputs": [],
   "source": [
    "optimizer = optim.Adam(model.parameters(), lr=0.001)\n",
    "critetion = nn.BCELoss()"
   ]
  },
  {
   "cell_type": "code",
   "execution_count": 40,
   "id": "3b8901c4",
   "metadata": {},
   "outputs": [
    {
     "name": "stdout",
     "output_type": "stream",
     "text": [
      "Successful\n"
     ]
    }
   ],
   "source": [
    "def calculate_accuracy(yhat, reals):\n",
    "    yhat = (yhat>0.5).float()\n",
    "    correct = yhat.eq(reals.view_as(yhat)).sum()\n",
    "    acc = correct.float()/len(reals)\n",
    "    return acc\n",
    "\n",
    "pred = torch.tensor([[0.6], [0.1], [0.3]])\n",
    "real = torch.tensor([1, 0, 1])\n",
    "assert calculate_accuracy(pred, real) == 2/3\n",
    "print('Successful')"
   ]
  },
  {
   "cell_type": "code",
   "execution_count": 41,
   "id": "deba7edc",
   "metadata": {},
   "outputs": [],
   "source": [
    "def train(model, train_loader, optimizer, critetion, device):\n",
    "    epoch_loss = 0\n",
    "    epoch_acc = 0\n",
    "    \n",
    "    model.train()\n",
    "    \n",
    "    for i, (data, target) in enumerate(train_loader):\n",
    "        # move data to GPU\n",
    "        data = data.to(device)\n",
    "        target = target.to(device)\n",
    "        # make gradient parameter to zero\n",
    "        optimizer.zero_grad(set_to_none=True)\n",
    "        # prediction\n",
    "        yhat = model(data)\n",
    "        # calculate loss and accuracy\n",
    "        loss = critetion(yhat, target.view_as(yhat))\n",
    "        acc = calculate_accuracy(yhat, target)\n",
    "        # backpropagate loss\n",
    "        loss.backward()\n",
    "        # update the gardient parameter based on loss\n",
    "        optimizer.step()\n",
    "        # calculate loss and accuracy\n",
    "        epoch_loss += loss.item()\n",
    "        epoch_acc += acc.item()\n",
    "    return epoch_loss/len(train_loader), epoch_acc/len(train_loader)\n",
    "    "
   ]
  },
  {
   "cell_type": "code",
   "execution_count": 42,
   "id": "a6e7a326",
   "metadata": {},
   "outputs": [],
   "source": [
    "def validation(model, validation_loader, critetion, device):\n",
    "    \n",
    "    epoch_loss = 0\n",
    "    epoch_acc = 0\n",
    "    \n",
    "    model.eval()\n",
    "    \n",
    "    with torch.no_grad():\n",
    "\n",
    "        for i, (data, target) in enumerate(validation_loader):\n",
    "            # move data to GPU\n",
    "            data = data.to(device)\n",
    "            target = target.to(device)\n",
    "            # prediction\n",
    "            yhat = model(data)\n",
    "            # calculate loss and accuracy\n",
    "            loss = critetion(yhat, target.view_as(yhat))\n",
    "            acc = calculate_accuracy(yhat, target)\n",
    "            # calculate loss and accuracy\n",
    "            epoch_loss += loss.item()\n",
    "            epoch_acc += acc.item()\n",
    "    return epoch_loss/len(validation_loader), epoch_acc/len(validation_loader)"
   ]
  },
  {
   "cell_type": "code",
   "execution_count": 43,
   "id": "15f5af00",
   "metadata": {},
   "outputs": [
    {
     "name": "stderr",
     "output_type": "stream",
     "text": [
      "  5%|████▏                                                                              | 1/20 [00:50<15:53, 50.20s/it]"
     ]
    },
    {
     "name": "stdout",
     "output_type": "stream",
     "text": [
      "Epoch : 0, train_loss : 0.5093599905871382, train_acc : 0.7511799024813103, val_loss : 0.4312684903753565, val_acc : 0.8075132978723404\n"
     ]
    },
    {
     "name": "stderr",
     "output_type": "stream",
     "text": [
      "\r",
      " 10%|████████▎                                                                          | 2/20 [01:40<15:08, 50.50s/it]"
     ]
    },
    {
     "name": "stdout",
     "output_type": "stream",
     "text": [
      "Epoch : 1, train_loss : 0.4263974463096773, train_acc : 0.8048915882303257, val_loss : 0.4442107515369958, val_acc : 0.8045212765957447\n"
     ]
    },
    {
     "name": "stderr",
     "output_type": "stream",
     "text": [
      "\r",
      " 15%|████████████▍                                                                      | 3/20 [02:31<14:18, 50.48s/it]"
     ]
    },
    {
     "name": "stdout",
     "output_type": "stream",
     "text": [
      "Epoch : 2, train_loss : 0.396982278065248, train_acc : 0.82087687217828, val_loss : 0.379068399006699, val_acc : 0.8394281914893617\n"
     ]
    },
    {
     "name": "stderr",
     "output_type": "stream",
     "text": [
      "\r",
      " 20%|████████████████▌                                                                  | 4/20 [03:21<13:28, 50.52s/it]"
     ]
    },
    {
     "name": "stdout",
     "output_type": "stream",
     "text": [
      "Epoch : 3, train_loss : 0.3784127281470732, train_acc : 0.8351576105512754, val_loss : 0.3919782991263461, val_acc : 0.8254654255319149\n"
     ]
    },
    {
     "name": "stderr",
     "output_type": "stream",
     "text": [
      "\r",
      " 25%|████████████████████▊                                                              | 5/20 [04:12<12:35, 50.40s/it]"
     ]
    },
    {
     "name": "stdout",
     "output_type": "stream",
     "text": [
      "Epoch : 4, train_loss : 0.3645057964656088, train_acc : 0.8391893068949382, val_loss : 0.3687946120316678, val_acc : 0.8304521276595744\n"
     ]
    },
    {
     "name": "stderr",
     "output_type": "stream",
     "text": [
      "\r",
      " 30%|████████████████████████▉                                                          | 6/20 [05:02<11:47, 50.51s/it]"
     ]
    },
    {
     "name": "stdout",
     "output_type": "stream",
     "text": [
      "Epoch : 5, train_loss : 0.34719854210964357, train_acc : 0.8492859630873709, val_loss : 0.3616098200387143, val_acc : 0.8430851063829787\n"
     ]
    },
    {
     "name": "stderr",
     "output_type": "stream",
     "text": [
      "\r",
      " 35%|█████████████████████████████                                                      | 7/20 [05:54<11:02, 50.92s/it]"
     ]
    },
    {
     "name": "stdout",
     "output_type": "stream",
     "text": [
      "Epoch : 6, train_loss : 0.3354957887620637, train_acc : 0.8548153953118758, val_loss : 0.35963447437562207, val_acc : 0.8444148936170213\n"
     ]
    },
    {
     "name": "stderr",
     "output_type": "stream",
     "text": [
      "\r",
      " 40%|█████████████████████████████████▏                                                 | 8/20 [06:45<10:10, 50.90s/it]"
     ]
    },
    {
     "name": "stdout",
     "output_type": "stream",
     "text": [
      "Epoch : 7, train_loss : 0.3201884283110349, train_acc : 0.8622213514164241, val_loss : 0.37684345344438197, val_acc : 0.8361037234042553\n"
     ]
    },
    {
     "name": "stderr",
     "output_type": "stream",
     "text": [
      "\r",
      " 45%|█████████████████████████████████████▎                                             | 9/20 [07:36<09:19, 50.88s/it]"
     ]
    },
    {
     "name": "stdout",
     "output_type": "stream",
     "text": [
      "Epoch : 8, train_loss : 0.3058402699051481, train_acc : 0.8682384186320835, val_loss : 0.3827692334084435, val_acc : 0.8420877659574468\n"
     ]
    },
    {
     "name": "stderr",
     "output_type": "stream",
     "text": [
      "\r",
      " 50%|█████████████████████████████████████████                                         | 10/20 [08:27<08:30, 51.07s/it]"
     ]
    },
    {
     "name": "stdout",
     "output_type": "stream",
     "text": [
      "Epoch : 9, train_loss : 0.28756541248523826, train_acc : 0.8781108498573303, val_loss : 0.38045458035900237, val_acc : 0.8344414893617021\n"
     ]
    },
    {
     "name": "stderr",
     "output_type": "stream",
     "text": [
      "\r",
      " 55%|█████████████████████████████████████████████                                     | 11/20 [09:20<07:43, 51.45s/it]"
     ]
    },
    {
     "name": "stdout",
     "output_type": "stream",
     "text": [
      "Epoch : 10, train_loss : 0.2718449597406869, train_acc : 0.884197579248987, val_loss : 0.3779559026848763, val_acc : 0.8537234042553191\n"
     ]
    },
    {
     "name": "stderr",
     "output_type": "stream",
     "text": [
      "\r",
      " 60%|█████████████████████████████████████████████████▏                                | 12/20 [10:11<06:50, 51.33s/it]"
     ]
    },
    {
     "name": "stdout",
     "output_type": "stream",
     "text": [
      "Epoch : 11, train_loss : 0.24888093067389547, train_acc : 0.8991597004611083, val_loss : 0.3619301571173871, val_acc : 0.8507313829787234\n"
     ]
    },
    {
     "name": "stderr",
     "output_type": "stream",
     "text": [
      "\r",
      " 65%|█████████████████████████████████████████████████████▎                            | 13/20 [11:01<05:57, 51.05s/it]"
     ]
    },
    {
     "name": "stdout",
     "output_type": "stream",
     "text": [
      "Epoch : 12, train_loss : 0.21795840559884755, train_acc : 0.9131051898002625, val_loss : 0.45075449549612845, val_acc : 0.8241356382978723\n"
     ]
    },
    {
     "name": "stderr",
     "output_type": "stream",
     "text": [
      "\r",
      " 70%|█████████████████████████████████████████████████████████▍                        | 14/20 [11:52<05:05, 50.99s/it]"
     ]
    },
    {
     "name": "stdout",
     "output_type": "stream",
     "text": [
      "Epoch : 13, train_loss : 0.1904231115460697, train_acc : 0.9226641414141414, val_loss : 0.46479575456853245, val_acc : 0.847406914893617\n"
     ]
    },
    {
     "name": "stderr",
     "output_type": "stream",
     "text": [
      "\r",
      " 75%|█████████████████████████████████████████████████████████████▌                    | 15/20 [12:43<04:15, 51.03s/it]"
     ]
    },
    {
     "name": "stdout",
     "output_type": "stream",
     "text": [
      "Epoch : 14, train_loss : 0.15358186482705855, train_acc : 0.9412813479250127, val_loss : 0.40755343932579174, val_acc : 0.8530585106382979\n"
     ]
    },
    {
     "name": "stderr",
     "output_type": "stream",
     "text": [
      "\r",
      " 80%|█████████████████████████████████████████████████████████████████▌                | 16/20 [13:34<03:23, 50.96s/it]"
     ]
    },
    {
     "name": "stdout",
     "output_type": "stream",
     "text": [
      "Epoch : 15, train_loss : 0.13071330254615257, train_acc : 0.9503156565656565, val_loss : 0.4790906400092818, val_acc : 0.8470744680851063\n"
     ]
    },
    {
     "name": "stderr",
     "output_type": "stream",
     "text": [
      "\r",
      " 85%|█████████████████████████████████████████████████████████████████████▋            | 17/20 [14:25<02:33, 51.14s/it]"
     ]
    },
    {
     "name": "stdout",
     "output_type": "stream",
     "text": [
      "Epoch : 16, train_loss : 0.09891962858217984, train_acc : 0.9617358933795582, val_loss : 0.70061528060506, val_acc : 0.8174867021276596\n"
     ]
    },
    {
     "name": "stderr",
     "output_type": "stream",
     "text": [
      "\r",
      " 90%|█████████████████████████████████████████████████████████████████████████▊        | 18/20 [15:17<01:42, 51.36s/it]"
     ]
    },
    {
     "name": "stdout",
     "output_type": "stream",
     "text": [
      "Epoch : 17, train_loss : 0.08217896483180047, train_acc : 0.9682318878896309, val_loss : 0.6646772734374997, val_acc : 0.8307845744680851\n"
     ]
    },
    {
     "name": "stderr",
     "output_type": "stream",
     "text": [
      "\r",
      " 95%|█████████████████████████████████████████████████████████████████████████████▉    | 19/20 [16:08<00:51, 51.07s/it]"
     ]
    },
    {
     "name": "stdout",
     "output_type": "stream",
     "text": [
      "Epoch : 18, train_loss : 0.06662307898843228, train_acc : 0.9741161616161617, val_loss : 0.6514726270276571, val_acc : 0.8454122340425532\n"
     ]
    },
    {
     "name": "stderr",
     "output_type": "stream",
     "text": [
      "100%|██████████████████████████████████████████████████████████████████████████████████| 20/20 [16:58<00:00, 50.94s/it]"
     ]
    },
    {
     "name": "stdout",
     "output_type": "stream",
     "text": [
      "Epoch : 19, train_loss : 0.06455616842757797, train_acc : 0.9764520202020202, val_loss : 0.6812873025563486, val_acc : 0.8357712765957447\n"
     ]
    },
    {
     "name": "stderr",
     "output_type": "stream",
     "text": [
      "\n"
     ]
    }
   ],
   "source": [
    "epochs = 20\n",
    "history = {'train':defaultdict(list), 'val':defaultdict(list)}\n",
    "\n",
    "model_path = 'model/ecg_classifier.pt'\n",
    "basedir = os.path.dirname(model_path)\n",
    "if not os.path.exists(basedir):\n",
    "    os.makedirs(basedir)\n",
    "    open(model_path,'w').close()\n",
    "    \n",
    "min_val_loss = float('inf')\n",
    "verbose = 1\n",
    "for epoch in tqdm(range(epochs)):\n",
    "    \n",
    "    train_loss, train_acc = train(model, ecg_train_loader, optimizer, critetion, device)\n",
    "    val_loss, val_acc = validation(model, ecg_validation_loader, critetion, device)\n",
    "    \n",
    "    if val_loss < min_val_loss:\n",
    "        min_val_loss = val_loss\n",
    "        torch.save(model.state_dict(), model_path)\n",
    "        \n",
    "    history['train']['train_loss'].append(train_loss)\n",
    "    history['train']['train_acc'].append(train_acc)\n",
    "    history['val']['val_loss'].append(val_loss)\n",
    "    history['val']['val_acc'].append(val_acc)\n",
    "    \n",
    "    if verbose == 1:\n",
    "        print(f'Epoch : {epoch}, train_loss : {train_loss}, train_acc : {train_acc}, val_loss : {val_loss}, val_acc : {val_acc}')"
   ]
  },
  {
   "cell_type": "code",
   "execution_count": 55,
   "id": "33c444a7",
   "metadata": {},
   "outputs": [
    {
     "data": {
      "text/plain": [
       "([<matplotlib.axis.XTick at 0x159fed0ca00>,\n",
       "  <matplotlib.axis.XTick at 0x159fed0c9d0>,\n",
       "  <matplotlib.axis.XTick at 0x159fecfcdf0>,\n",
       "  <matplotlib.axis.XTick at 0x159fed47820>,\n",
       "  <matplotlib.axis.XTick at 0x159fed4f040>,\n",
       "  <matplotlib.axis.XTick at 0x159fed4f700>,\n",
       "  <matplotlib.axis.XTick at 0x159fed4fe50>,\n",
       "  <matplotlib.axis.XTick at 0x159fed555e0>,\n",
       "  <matplotlib.axis.XTick at 0x159fed4feb0>,\n",
       "  <matplotlib.axis.XTick at 0x159fed47d00>,\n",
       "  <matplotlib.axis.XTick at 0x159fed55640>,\n",
       "  <matplotlib.axis.XTick at 0x159fed5e430>,\n",
       "  <matplotlib.axis.XTick at 0x159fed5eb80>,\n",
       "  <matplotlib.axis.XTick at 0x159feee2310>,\n",
       "  <matplotlib.axis.XTick at 0x159feee2a60>,\n",
       "  <matplotlib.axis.XTick at 0x159feee25e0>,\n",
       "  <matplotlib.axis.XTick at 0x159fed5e4f0>,\n",
       "  <matplotlib.axis.XTick at 0x159fed55340>,\n",
       "  <matplotlib.axis.XTick at 0x159fecc0ca0>,\n",
       "  <matplotlib.axis.XTick at 0x159feee9670>],\n",
       " [Text(0, 0, ''),\n",
       "  Text(0, 0, ''),\n",
       "  Text(0, 0, ''),\n",
       "  Text(0, 0, ''),\n",
       "  Text(0, 0, ''),\n",
       "  Text(0, 0, ''),\n",
       "  Text(0, 0, ''),\n",
       "  Text(0, 0, ''),\n",
       "  Text(0, 0, ''),\n",
       "  Text(0, 0, ''),\n",
       "  Text(0, 0, ''),\n",
       "  Text(0, 0, ''),\n",
       "  Text(0, 0, ''),\n",
       "  Text(0, 0, ''),\n",
       "  Text(0, 0, ''),\n",
       "  Text(0, 0, ''),\n",
       "  Text(0, 0, ''),\n",
       "  Text(0, 0, ''),\n",
       "  Text(0, 0, ''),\n",
       "  Text(0, 0, '')])"
      ]
     },
     "execution_count": 55,
     "metadata": {},
     "output_type": "execute_result"
    },
    {
     "data": {
      "image/png": "[encoded data removed]",
      "text/plain": [
       "<Figure size 1008x432 with 2 Axes>"
      ]
     },
     "metadata": {},
     "output_type": "display_data"
    }
   ],
   "source": [
    "plt.figure(figsize=(14, 5))\n",
    "plt.subplot(1, 2, 1)\n",
    "plt.plot(list(range(20)), history['train']['train_loss'], label='train')\n",
    "plt.plot(list(range(20)), history['val']['val_loss'], label='val')\n",
    "plt.title('Loss')\n",
    "plt.legend()\n",
    "plt.xticks(list(range(1, 21)))\n",
    "plt.subplot(1, 2, 2)\n",
    "plt.plot(list(range(20)), history['train']['train_acc'], label='train')\n",
    "plt.plot(list(range(20)), history['val']['val_acc'], label='val')\n",
    "plt.title('Accuracy')\n",
    "plt.legend()\n",
    "plt.xticks(list(range(1, 21)))"
   ]
  },
  {
   "cell_type": "markdown",
   "id": "5ad5c7f4",
   "metadata": {},
   "source": [
    "# To be applied\n",
    "- make history visualization function\n",
    "- the function will handle the number of metrics automatically \n",
    "- it means, function will create the number of graphs based on number of metrics"
   ]
  },
  {
   "cell_type": "code",
   "execution_count": 44,
   "id": "ec9964d9",
   "metadata": {},
   "outputs": [],
   "source": [
    "# test the model\n",
    "test_loss, test_acc = validation(model, ecg_test_loader, critetion, device)"
   ]
  },
  {
   "cell_type": "code",
   "execution_count": 46,
   "id": "114fd46d",
   "metadata": {},
   "outputs": [
    {
     "name": "stdout",
     "output_type": "stream",
     "text": [
      "Test loss : 0.6867115947831561, Test Accuracy : 0.8367686170212766\n"
     ]
    }
   ],
   "source": [
    "print(f'Test loss : {test_loss}, Test Accuracy : {test_acc}')"
   ]
  },
  {
   "cell_type": "code",
   "execution_count": 47,
   "id": "cb5f9ef1",
   "metadata": {},
   "outputs": [
    {
     "name": "stdout",
     "output_type": "stream",
     "text": [
      "Test loss : 0.34730033227737916, Test Accuracy : 0.8487367021276596\n"
     ]
    }
   ],
   "source": [
    "# load the save model\n",
    "model.load_state_dict(torch.load(model_path))\n",
    "model.eval()\n",
    "test_loss, test_acc = validation(model, ecg_test_loader, critetion, device)\n",
    "print(f'Test loss : {test_loss}, Test Accuracy : {test_acc}')"
   ]
  },
  {
   "cell_type": "markdown",
   "id": "66734096",
   "metadata": {},
   "source": [
    "# Observation\n",
    "- The model seems to be overfitted\n",
    "- Include l2 regularization\n",
    "- Play around with betas of adam optimizer\n",
    "- Play around with learning rate of adam"
   ]
  }
 ],
 "metadata": {
  "kernelspec": {
   "display_name": "Python 3 (ipykernel)",
   "language": "python",
   "name": "python3"
  },
  "language_info": {
   "codemirror_mode": {
    "name": "ipython",
    "version": 3
   },
   "file_extension": ".py",
   "mimetype": "text/x-python",
   "name": "python",
   "nbconvert_exporter": "python",
   "pygments_lexer": "ipython3",
   "version": "3.9.7"
  }
 },
 "nbformat": 4,
 "nbformat_minor": 5
}
